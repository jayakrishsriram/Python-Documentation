{
 "cells": [
  {
   "cell_type": "markdown",
   "metadata": {},
   "source": [
    "# OS\n",
    "\n",
    "## Functions (organized by category):"
   ]
  },
  {
   "cell_type": "code",
   "execution_count": 43,
   "metadata": {},
   "outputs": [],
   "source": [
    "import os"
   ]
  },
  {
   "cell_type": "markdown",
   "metadata": {},
   "source": [
    "\n",
    "\n",
    "### File and Directory Operations:\n",
    "\n",
    "os.getcwd(): Get the current working directory.\n",
    "\n",
    "os.chdir(path): Change the current working directory.\n",
    "\n",
    "os.listdir(path): List the contents of a directory.\n",
    "\n",
    "os.mkdir(path): Create a new directory.\n",
    "\n",
    "os.remove(path): Remove a file.\n",
    "\n",
    "os.rename(src, dst): Rename a file or directory.\n",
    "\n",
    "os.rmdir(path): Remove an empty directory.\n",
    "\n",
    "os.stat(path): Get information about a file or directory (size, permissions, etc.).\n",
    "\n",
    "os.walk(top): Generate file names in a directory tree.\n",
    "\n",
    "os.path.join(path1, path2, ...): Join paths in a platform-independent way.\n",
    "\n",
    "os.path.exists(path): Check if a path exists.\n",
    "\n",
    "os.path.isfile(path): Check if a path is a file.\n",
    "\n",
    "os.path.isdir(path): Check if a path is a directory.\n",
    "\n",
    "os.path.split(path): Split a path into its head and tail."
   ]
  },
  {
   "cell_type": "code",
   "execution_count": 44,
   "metadata": {},
   "outputs": [
    {
     "data": {
      "text/plain": [
       "'c:\\\\Users\\\\jayak\\\\Downloads\\\\Python-Documentation\\\\OS'"
      ]
     },
     "execution_count": 44,
     "metadata": {},
     "output_type": "execute_result"
    }
   ],
   "source": [
    "os.getcwd()"
   ]
  },
  {
   "cell_type": "code",
   "execution_count": 45,
   "metadata": {},
   "outputs": [],
   "source": [
    "path=\"c:\\\\Users\\\\jayak\\\\Downloads\\\\Python-Documentation\\\\OS\""
   ]
  },
  {
   "cell_type": "code",
   "execution_count": 46,
   "metadata": {},
   "outputs": [],
   "source": [
    "os.chdir(\"C:\\\\Users\\\\jayak\\\\Downloads\\\\\")"
   ]
  },
  {
   "cell_type": "code",
   "execution_count": 47,
   "metadata": {},
   "outputs": [
    {
     "data": {
      "text/plain": [
       "'C:\\\\Users\\\\jayak\\\\Downloads'"
      ]
     },
     "execution_count": 47,
     "metadata": {},
     "output_type": "execute_result"
    }
   ],
   "source": [
    "os.getcwd()"
   ]
  },
  {
   "cell_type": "code",
   "execution_count": 48,
   "metadata": {},
   "outputs": [],
   "source": [
    "os.chdir(\"c:\\\\Users\\\\jayak\\\\Downloads\\\\Python-Documentation\\\\OS\")"
   ]
  },
  {
   "cell_type": "code",
   "execution_count": 49,
   "metadata": {},
   "outputs": [
    {
     "data": {
      "text/plain": [
       "['OsCheatSheet.ipynb']"
      ]
     },
     "execution_count": 49,
     "metadata": {},
     "output_type": "execute_result"
    }
   ],
   "source": [
    "os.listdir(path)"
   ]
  },
  {
   "cell_type": "code",
   "execution_count": 50,
   "metadata": {},
   "outputs": [],
   "source": [
    "os.mkdir('c:\\\\Users\\\\jayak\\\\Downloads\\\\Python-Documentation\\\\OS\\\\try')"
   ]
  },
  {
   "cell_type": "code",
   "execution_count": 51,
   "metadata": {},
   "outputs": [
    {
     "data": {
      "text/plain": [
       "['OsCheatSheet.ipynb', 'try']"
      ]
     },
     "execution_count": 51,
     "metadata": {},
     "output_type": "execute_result"
    }
   ],
   "source": [
    "os.listdir(path)"
   ]
  },
  {
   "cell_type": "code",
   "execution_count": 52,
   "metadata": {},
   "outputs": [
    {
     "ename": "FileNotFoundError",
     "evalue": "[WinError 3] The system cannot find the path specified: 'c:\\\\Users\\\\jayak\\\\Downloads\\\\Python-Documentation\\\\OS\\\\trya\\\\tryb'",
     "output_type": "error",
     "traceback": [
      "\u001b[1;31m---------------------------------------------------------------------------\u001b[0m",
      "\u001b[1;31mFileNotFoundError\u001b[0m                         Traceback (most recent call last)",
      "Cell \u001b[1;32mIn[52], line 1\u001b[0m\n\u001b[1;32m----> 1\u001b[0m \u001b[43mos\u001b[49m\u001b[38;5;241;43m.\u001b[39;49m\u001b[43mmkdir\u001b[49m\u001b[43m(\u001b[49m\u001b[38;5;124;43m'\u001b[39;49m\u001b[38;5;124;43mc:\u001b[39;49m\u001b[38;5;130;43;01m\\\\\u001b[39;49;00m\u001b[38;5;124;43mUsers\u001b[39;49m\u001b[38;5;130;43;01m\\\\\u001b[39;49;00m\u001b[38;5;124;43mjayak\u001b[39;49m\u001b[38;5;130;43;01m\\\\\u001b[39;49;00m\u001b[38;5;124;43mDownloads\u001b[39;49m\u001b[38;5;130;43;01m\\\\\u001b[39;49;00m\u001b[38;5;124;43mPython-Documentation\u001b[39;49m\u001b[38;5;130;43;01m\\\\\u001b[39;49;00m\u001b[38;5;124;43mOS\u001b[39;49m\u001b[38;5;130;43;01m\\\\\u001b[39;49;00m\u001b[38;5;124;43mtrya\u001b[39;49m\u001b[38;5;130;43;01m\\\\\u001b[39;49;00m\u001b[38;5;124;43mtryb\u001b[39;49m\u001b[38;5;124;43m'\u001b[39;49m\u001b[43m)\u001b[49m\n",
      "\u001b[1;31mFileNotFoundError\u001b[0m: [WinError 3] The system cannot find the path specified: 'c:\\\\Users\\\\jayak\\\\Downloads\\\\Python-Documentation\\\\OS\\\\trya\\\\tryb'"
     ]
    }
   ],
   "source": [
    "os.mkdir('c:\\\\Users\\\\jayak\\\\Downloads\\\\Python-Documentation\\\\OS\\\\trya\\\\tryb')"
   ]
  },
  {
   "cell_type": "code",
   "execution_count": 53,
   "metadata": {},
   "outputs": [],
   "source": [
    "os.makedirs('c:\\\\Users\\\\jayak\\\\Downloads\\\\Python-Documentation\\\\OS\\\\trya\\\\tryb')"
   ]
  },
  {
   "cell_type": "code",
   "execution_count": 54,
   "metadata": {},
   "outputs": [
    {
     "data": {
      "text/plain": [
       "['OsCheatSheet.ipynb', 'try', 'trya']"
      ]
     },
     "execution_count": 54,
     "metadata": {},
     "output_type": "execute_result"
    }
   ],
   "source": [
    "os.listdir()"
   ]
  },
  {
   "cell_type": "code",
   "execution_count": 55,
   "metadata": {},
   "outputs": [],
   "source": [
    "os.rename('c:\\\\Users\\\\jayak\\\\Downloads\\\\Python-Documentation\\\\OS\\\\try','c:\\\\Users\\\\jayak\\\\Downloads\\\\Python-Documentation\\\\OS\\\\try2')"
   ]
  },
  {
   "cell_type": "code",
   "execution_count": 56,
   "metadata": {},
   "outputs": [
    {
     "data": {
      "text/plain": [
       "['OsCheatSheet.ipynb', 'try2', 'trya']"
      ]
     },
     "execution_count": 56,
     "metadata": {},
     "output_type": "execute_result"
    }
   ],
   "source": [
    "os.listdir()"
   ]
  },
  {
   "cell_type": "code",
   "execution_count": 57,
   "metadata": {},
   "outputs": [],
   "source": [
    "os.rmdir('c:\\\\Users\\\\jayak\\\\Downloads\\\\Python-Documentation\\\\OS\\\\try2')"
   ]
  },
  {
   "cell_type": "code",
   "execution_count": 58,
   "metadata": {},
   "outputs": [
    {
     "ename": "OSError",
     "evalue": "[WinError 145] The directory is not empty: 'c:\\\\Users\\\\jayak\\\\Downloads\\\\Python-Documentation\\\\OS\\\\trya'",
     "output_type": "error",
     "traceback": [
      "\u001b[1;31m---------------------------------------------------------------------------\u001b[0m",
      "\u001b[1;31mOSError\u001b[0m                                   Traceback (most recent call last)",
      "Cell \u001b[1;32mIn[58], line 1\u001b[0m\n\u001b[1;32m----> 1\u001b[0m \u001b[43mos\u001b[49m\u001b[38;5;241;43m.\u001b[39;49m\u001b[43mrmdir\u001b[49m\u001b[43m(\u001b[49m\u001b[38;5;124;43m'\u001b[39;49m\u001b[38;5;124;43mc:\u001b[39;49m\u001b[38;5;130;43;01m\\\\\u001b[39;49;00m\u001b[38;5;124;43mUsers\u001b[39;49m\u001b[38;5;130;43;01m\\\\\u001b[39;49;00m\u001b[38;5;124;43mjayak\u001b[39;49m\u001b[38;5;130;43;01m\\\\\u001b[39;49;00m\u001b[38;5;124;43mDownloads\u001b[39;49m\u001b[38;5;130;43;01m\\\\\u001b[39;49;00m\u001b[38;5;124;43mPython-Documentation\u001b[39;49m\u001b[38;5;130;43;01m\\\\\u001b[39;49;00m\u001b[38;5;124;43mOS\u001b[39;49m\u001b[38;5;130;43;01m\\\\\u001b[39;49;00m\u001b[38;5;124;43mtrya\u001b[39;49m\u001b[38;5;124;43m'\u001b[39;49m\u001b[43m)\u001b[49m\n",
      "\u001b[1;31mOSError\u001b[0m: [WinError 145] The directory is not empty: 'c:\\\\Users\\\\jayak\\\\Downloads\\\\Python-Documentation\\\\OS\\\\trya'"
     ]
    }
   ],
   "source": [
    "os.rmdir('c:\\\\Users\\\\jayak\\\\Downloads\\\\Python-Documentation\\\\OS\\\\trya')"
   ]
  },
  {
   "cell_type": "code",
   "execution_count": 59,
   "metadata": {},
   "outputs": [],
   "source": [
    "os.removedirs('c:\\\\Users\\\\jayak\\\\Downloads\\\\Python-Documentation\\\\OS\\\\trya\\\\tryb')"
   ]
  },
  {
   "cell_type": "code",
   "execution_count": 60,
   "metadata": {},
   "outputs": [
    {
     "data": {
      "text/plain": [
       "['OsCheatSheet.ipynb']"
      ]
     },
     "execution_count": 60,
     "metadata": {},
     "output_type": "execute_result"
    }
   ],
   "source": [
    "os.listdir()"
   ]
  },
  {
   "cell_type": "code",
   "execution_count": null,
   "metadata": {},
   "outputs": [
    {
     "data": {
      "text/plain": [
       "os.stat_result(st_mode=16895, st_ino=16607023626302463, st_dev=1049192157, st_nlink=1, st_uid=0, st_gid=0, st_size=0, st_atime=1703078201, st_mtime=1703077341, st_ctime=1703075468)"
      ]
     },
     "execution_count": 17,
     "metadata": {},
     "output_type": "execute_result"
    }
   ],
   "source": [
    "os.stat(path)"
   ]
  },
  {
   "cell_type": "code",
   "execution_count": null,
   "metadata": {},
   "outputs": [
    {
     "name": "stdout",
     "output_type": "stream",
     "text": [
      "c:\\Users\\jayak\\Downloads\\Python-Documentation\\OS ['try', 'try2'] ['OsCheatSheet.ipynb']\n",
      "c:\\Users\\jayak\\Downloads\\Python-Documentation\\OS\\try ['hey', 'hey2'] []\n",
      "c:\\Users\\jayak\\Downloads\\Python-Documentation\\OS\\try\\hey [] []\n",
      "c:\\Users\\jayak\\Downloads\\Python-Documentation\\OS\\try\\hey2 [] []\n",
      "c:\\Users\\jayak\\Downloads\\Python-Documentation\\OS\\try2 ['hey'] []\n",
      "c:\\Users\\jayak\\Downloads\\Python-Documentation\\OS\\try2\\hey [] []\n"
     ]
    }
   ],
   "source": [
    "def read_files(top_dir):\n",
    "  for dirpath, dirnames, filenames in os.walk(top_dir):\n",
    "    # Access and process files and subdirectories as needed\n",
    "    print(dirpath, dirnames, filenames)\n",
    "    for filename in filenames:\n",
    "      filepath = os.path.join(dirpath, filename)\n",
    "      # Read or process the file\n",
    "os.mkdir('c:\\\\Users\\\\jayak\\\\Downloads\\\\Python-Documentation\\\\OS\\\\try')\n",
    "os.mkdir('c:\\\\Users\\\\jayak\\\\Downloads\\\\Python-Documentation\\\\OS\\\\try\\\\hey')\n",
    "os.mkdir('c:\\\\Users\\\\jayak\\\\Downloads\\\\Python-Documentation\\\\OS\\\\try\\\\hey2')\n",
    "os.mkdir('c:\\\\Users\\\\jayak\\\\Downloads\\\\Python-Documentation\\\\OS\\\\try2')\n",
    "os.mkdir('c:\\\\Users\\\\jayak\\\\Downloads\\\\Python-Documentation\\\\OS\\\\try2\\\\hey')\n",
    "read_files(path)\n",
    "os.rmdir('c:\\\\Users\\\\jayak\\\\Downloads\\\\Python-Documentation\\\\OS\\\\try2\\\\hey')\n",
    "os.rmdir('c:\\\\Users\\\\jayak\\\\Downloads\\\\Python-Documentation\\\\OS\\\\try2')\n",
    "os.rmdir('c:\\\\Users\\\\jayak\\\\Downloads\\\\Python-Documentation\\\\OS\\\\try\\\\hey')\n",
    "os.rmdir('c:\\\\Users\\\\jayak\\\\Downloads\\\\Python-Documentation\\\\OS\\\\try\\\\hey2')\n",
    "os.rmdir('c:\\\\Users\\\\jayak\\\\Downloads\\\\Python-Documentation\\\\OS\\\\try')\n"
   ]
  },
  {
   "cell_type": "code",
   "execution_count": 73,
   "metadata": {},
   "outputs": [
    {
     "data": {
      "text/plain": [
       "'c:\\\\Users\\\\jayak\\\\Downloads\\\\Python-Documentation\\\\OS\\\\hello.txt'"
      ]
     },
     "execution_count": 73,
     "metadata": {},
     "output_type": "execute_result"
    }
   ],
   "source": [
    "pathc=os.path.join(path,\"hello.txt\")\n",
    "pathc # this is used to create a path but not the file or folder with this pathc and standard open() ypu can create a file."
   ]
  },
  {
   "cell_type": "code",
   "execution_count": 76,
   "metadata": {},
   "outputs": [
    {
     "name": "stdout",
     "output_type": "stream",
     "text": [
      "False\n"
     ]
    },
    {
     "data": {
      "text/plain": [
       "True"
      ]
     },
     "execution_count": 76,
     "metadata": {},
     "output_type": "execute_result"
    }
   ],
   "source": [
    "print(os.path.exists(pathc))\n",
    "os.path.exists(path)"
   ]
  },
  {
   "cell_type": "code",
   "execution_count": 77,
   "metadata": {},
   "outputs": [
    {
     "data": {
      "text/plain": [
       "False"
      ]
     },
     "execution_count": 77,
     "metadata": {},
     "output_type": "execute_result"
    }
   ],
   "source": [
    "os.path.isfile(path)"
   ]
  },
  {
   "cell_type": "code",
   "execution_count": 78,
   "metadata": {},
   "outputs": [
    {
     "data": {
      "text/plain": [
       "True"
      ]
     },
     "execution_count": 78,
     "metadata": {},
     "output_type": "execute_result"
    }
   ],
   "source": [
    "os.path.isdir(path)"
   ]
  },
  {
   "cell_type": "code",
   "execution_count": 80,
   "metadata": {},
   "outputs": [
    {
     "data": {
      "text/plain": [
       "'c:\\\\Users\\\\jayak\\\\Downloads\\\\Python-Documentation\\\\OS\\\\hello.txt'"
      ]
     },
     "execution_count": 80,
     "metadata": {},
     "output_type": "execute_result"
    }
   ],
   "source": [
    "os.path.split(pathc)"
   ]
  },
  {
   "cell_type": "code",
   "execution_count": 97,
   "metadata": {},
   "outputs": [
    {
     "data": {
      "text/plain": [
       "('c:\\\\Users\\\\jayak\\\\Downloads\\\\Python-Documentation\\\\OS\\\\hello', '.txt')"
      ]
     },
     "execution_count": 97,
     "metadata": {},
     "output_type": "execute_result"
    }
   ],
   "source": [
    "os.path.splitext(pathc)"
   ]
  },
  {
   "cell_type": "markdown",
   "metadata": {},
   "source": [
    "### Walking Directories:\n",
    "\n",
    "os.walk(top): Recursively traverse a directory tree, yielding (dirpath, dirnames, filenames) tuples.\n",
    "\n",
    "### Process Management:\n",
    "\n",
    "os.getpid(): Get the process ID of the current process.\n",
    "\n",
    "### Environment Variables:\n",
    "\n",
    "os.environ: A dictionary containing environment variables.\n",
    "\n",
    "os.getenv(key, default): Get the value of an environment variable.\n"
   ]
  },
  {
   "cell_type": "code",
   "execution_count": 84,
   "metadata": {},
   "outputs": [
    {
     "name": "stdout",
     "output_type": "stream",
     "text": [
      "Current process ID: 31992\n"
     ]
    }
   ],
   "source": [
    "pid = os.getpid()\n",
    "print(\"Current process ID:\", pid)"
   ]
  },
  {
   "cell_type": "code",
   "execution_count": 72,
   "metadata": {},
   "outputs": [
    {
     "data": {
      "text/plain": [
       "'C:\\\\Users\\\\jayak\\\\OneDrive'"
      ]
     },
     "execution_count": 72,
     "metadata": {},
     "output_type": "execute_result"
    }
   ],
   "source": [
    "home_dir = os.environ.get(\"OneDrive\")  # Get the environment directory(setting a pip in environmrnt)\n",
    "home_dir"
   ]
  },
  {
   "cell_type": "code",
   "execution_count": 82,
   "metadata": {},
   "outputs": [
    {
     "data": {
      "text/plain": [
       "'89762'"
      ]
     },
     "execution_count": 82,
     "metadata": {},
     "output_type": "execute_result"
    }
   ],
   "source": [
    "# For sample.\n",
    "\n",
    "# Set\n",
    "os.environ[\"Hello\"]=\"89762\"\n",
    "# Get\n",
    "o=os.getenv(\"Hello\")\n",
    "o"
   ]
  },
  {
   "cell_type": "markdown",
   "metadata": {},
   "source": [
    "### Input/Output:\n",
    "\n",
    "os.open(file, flags, mode): Open a file (more flexible than the built-in open() function).\n",
    "\n",
    "os.read(fd, n): Read data from a file descriptor.\n",
    "\n",
    "os.write(fd, data): Write data to a file descriptor.\n",
    "\n",
    "os.close(fd): Close a file descriptor.\n",
    "\n",
    "### Other Functions:\n",
    "\n",
    "os.name: Get the name of the operating system.\n",
    "\n",
    "os.system(command): Execute a command in the shell.\n",
    "\n",
    "os.path.abspath(path): Get the absolute path of a file.\n",
    "\n",
    "os.path.basename(path): Get the base name of a file.\n",
    "\n",
    "os.path.dirname(path): Get the directory name of a file.\n",
    "\n",
    "os.path.expanduser(path): Expand the user's home directory in a path.\n",
    "\n",
    "os.path.normpath(path): Normalize a path, removing redundant parts."
   ]
  },
  {
   "cell_type": "code",
   "execution_count": 81,
   "metadata": {},
   "outputs": [
    {
     "data": {
      "text/plain": [
       "'nt'"
      ]
     },
     "execution_count": 81,
     "metadata": {},
     "output_type": "execute_result"
    }
   ],
   "source": [
    "os.name"
   ]
  },
  {
   "cell_type": "code",
   "execution_count": 74,
   "metadata": {},
   "outputs": [
    {
     "data": {
      "text/plain": [
       "'OS'"
      ]
     },
     "execution_count": 74,
     "metadata": {},
     "output_type": "execute_result"
    }
   ],
   "source": [
    "os.path.basename(path)"
   ]
  },
  {
   "cell_type": "code",
   "execution_count": 75,
   "metadata": {},
   "outputs": [
    {
     "data": {
      "text/plain": [
       "'c:\\\\Users\\\\jayak\\\\Downloads\\\\Python-Documentation'"
      ]
     },
     "execution_count": 75,
     "metadata": {},
     "output_type": "execute_result"
    }
   ],
   "source": [
    "os.path.dirname(path)"
   ]
  },
  {
   "cell_type": "code",
   "execution_count": 95,
   "metadata": {},
   "outputs": [
    {
     "data": {
      "text/plain": [
       "'\\\\Python-Documentation\\\\OS'"
      ]
     },
     "execution_count": 95,
     "metadata": {},
     "output_type": "execute_result"
    }
   ],
   "source": [
    "path2=\"\\\\Python-Documentation\\\\OS\"\n",
    "os.path.expanduser(path2)"
   ]
  },
  {
   "cell_type": "code",
   "execution_count": 96,
   "metadata": {},
   "outputs": [
    {
     "data": {
      "text/plain": [
       "'\\\\Python-Documentation\\\\OS'"
      ]
     },
     "execution_count": 96,
     "metadata": {},
     "output_type": "execute_result"
    }
   ],
   "source": [
    "os.path.normpath(path2)"
   ]
  },
  {
   "cell_type": "code",
   "execution_count": 98,
   "metadata": {},
   "outputs": [
    {
     "data": {
      "text/plain": [
       "'c:\\\\Users\\\\jayak\\\\Downloads\\\\Python-Documentation\\\\OS'"
      ]
     },
     "execution_count": 98,
     "metadata": {},
     "output_type": "execute_result"
    }
   ],
   "source": [
    "os.path.abspath(path)"
   ]
  },
  {
   "cell_type": "code",
   "execution_count": 99,
   "metadata": {},
   "outputs": [
    {
     "data": {
      "text/plain": [
       "1"
      ]
     },
     "execution_count": 99,
     "metadata": {},
     "output_type": "execute_result"
    }
   ],
   "source": [
    "# List files in the current directory\n",
    "os.system(\"ls\")"
   ]
  },
  {
   "cell_type": "code",
   "execution_count": 100,
   "metadata": {},
   "outputs": [
    {
     "data": {
      "text/plain": [
       "1"
      ]
     },
     "execution_count": 100,
     "metadata": {},
     "output_type": "execute_result"
    }
   ],
   "source": [
    "# Get system information\n",
    "os.system(\"uname -a\")"
   ]
  },
  {
   "cell_type": "code",
   "execution_count": 101,
   "metadata": {},
   "outputs": [
    {
     "data": {
      "text/plain": [
       "'\\n\\ndef shutdown_pc():\\n    \"\"\"Shuts down the computer.\"\"\"\\n    if os.name == \"nt\":  # Windows\\n        os.system(\"shutdown /s /t 1\")\\n    else:  # Unix/Linux/Mac\\n        os.system(\"sudo shutdown now\")\\n\\n# Example usage:\\nshutdown_pc() \\n'"
      ]
     },
     "execution_count": 101,
     "metadata": {},
     "output_type": "execute_result"
    }
   ],
   "source": [
    "'''\n",
    "\n",
    "def shutdown_pc():\n",
    "    \"\"\"Shuts down the computer.\"\"\"\n",
    "    if os.name == \"nt\":  # Windows\n",
    "        os.system(\"shutdown /s /t 1\")\n",
    "    else:  # Unix/Linux/Mac\n",
    "        os.system(\"sudo shutdown now\")\n",
    "\n",
    "# Example usage:\n",
    "shutdown_pc() \n",
    "'''\n"
   ]
  }
 ],
 "metadata": {
  "kernelspec": {
   "display_name": "OS",
   "language": "python",
   "name": "python3"
  },
  "language_info": {
   "codemirror_mode": {
    "name": "ipython",
    "version": 3
   },
   "file_extension": ".py",
   "mimetype": "text/x-python",
   "name": "python",
   "nbconvert_exporter": "python",
   "pygments_lexer": "ipython3",
   "version": "3.11.3"
  }
 },
 "nbformat": 4,
 "nbformat_minor": 2
}
