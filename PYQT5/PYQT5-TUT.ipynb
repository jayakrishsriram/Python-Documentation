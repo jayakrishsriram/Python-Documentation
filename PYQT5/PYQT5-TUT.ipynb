{
 "cells": [
  {
   "cell_type": "code",
   "execution_count": 2,
   "metadata": {},
   "outputs": [],
   "source": [
    "from PyQt5 import QtWidgets\n",
    "from PyQt5.QtWidgets import QApplication, QMainWindow\n",
    "import sys\n"
   ]
  },
  {
   "cell_type": "code",
   "execution_count": 3,
   "metadata": {},
   "outputs": [
    {
     "ename": "SystemExit",
     "evalue": "0",
     "output_type": "error",
     "traceback": [
      "An exception has occurred, use %tb to see the full traceback.\n",
      "\u001b[1;31mSystemExit\u001b[0m\u001b[1;31m:\u001b[0m 0\n"
     ]
    }
   ],
   "source": [
    "def window():\n",
    "    app= QApplication(sys.argv)\n",
    "    win=QMainWindow()\n",
    "    win.setGeometry(200,200,300,300) # setGeometry(xcoor,ycoor,width,height)\n",
    "    win.setWindowTitle(\"My First PYQT5 Program\")\n",
    "    win.show()\n",
    "    sys.exit(app.exec_()) #Error message down does not affect anything just run\n",
    "window()"
   ]
  },
  {
   "cell_type": "code",
   "execution_count": 4,
   "metadata": {},
   "outputs": [
    {
     "ename": "SystemExit",
     "evalue": "0",
     "output_type": "error",
     "traceback": [
      "An exception has occurred, use %tb to see the full traceback.\n",
      "\u001b[1;31mSystemExit\u001b[0m\u001b[1;31m:\u001b[0m 0\n"
     ]
    },
    {
     "name": "stderr",
     "output_type": "stream",
     "text": [
      "C:\\Users\\jayak\\AppData\\Roaming\\Python\\Python311\\site-packages\\IPython\\core\\interactiveshell.py:3534: UserWarning: To exit: use 'exit', 'quit', or Ctrl-D.\n",
      "  warn(\"To exit: use 'exit', 'quit', or Ctrl-D.\", stacklevel=1)\n"
     ]
    }
   ],
   "source": [
    "def window():\n",
    "    app= QApplication(sys.argv)\n",
    "    win=QMainWindow()\n",
    "    win.setGeometry(200,200,300,300) # setGeometry(xcoor,ycoor,width,height)\n",
    "    win.setWindowTitle(\"My First PYQT5 Program\")\n",
    "    label=QtWidgets.QLabel(win)\n",
    "    label.setText(\"My first label\")\n",
    "    label.move(50,50)\n",
    "    win.show()\n",
    "    sys.exit(app.exec_()) #Error message down does not affect anything just run\n",
    "window()"
   ]
  },
  {
   "cell_type": "code",
   "execution_count": 6,
   "metadata": {},
   "outputs": [
    {
     "name": "stdout",
     "output_type": "stream",
     "text": [
      "clicked\n"
     ]
    },
    {
     "ename": "SystemExit",
     "evalue": "0",
     "output_type": "error",
     "traceback": [
      "An exception has occurred, use %tb to see the full traceback.\n",
      "\u001b[1;31mSystemExit\u001b[0m\u001b[1;31m:\u001b[0m 0\n"
     ]
    },
    {
     "name": "stderr",
     "output_type": "stream",
     "text": [
      "C:\\Users\\jayak\\AppData\\Roaming\\Python\\Python311\\site-packages\\IPython\\core\\interactiveshell.py:3534: UserWarning: To exit: use 'exit', 'quit', or Ctrl-D.\n",
      "  warn(\"To exit: use 'exit', 'quit', or Ctrl-D.\", stacklevel=1)\n"
     ]
    },
    {
     "ename": "",
     "evalue": "",
     "output_type": "error",
     "traceback": [
      "\u001b[1;31mThe Kernel crashed while executing code in the the current cell or a previous cell. Please review the code in the cell(s) to identify a possible cause of the failure. Click <a href='https://aka.ms/vscodeJupyterKernelCrash'>here</a> for more info. View Jupyter <a href='command:jupyter.viewOutput'>log</a> for further details."
     ]
    }
   ],
   "source": [
    "def clicked():\n",
    "    print(\"clicked\")\n",
    "def window():\n",
    "    app= QApplication(sys.argv)\n",
    "    win=QMainWindow()\n",
    "    win.setGeometry(200,200,300,300) # setGeometry(xcoor,ycoor,width,height)\n",
    "    win.setWindowTitle(\"My First PYQT5 Program\")\n",
    "    label=QtWidgets.QLabel(win)\n",
    "    label.setText(\"My first label\")\n",
    "    label.move(50,50)\n",
    "    b1=QtWidgets.QPushButton(win)\n",
    "    b1.setText(\"My first button\")\n",
    "    b1.clicked.connect(clicked)\n",
    "    b1.move(100,100)\n",
    "\n",
    "    win.show()\n",
    "    sys.exit(app.exec_()) #Error message down does not affect anything just run\n",
    "window()"
   ]
  },
  {
   "cell_type": "code",
   "execution_count": 4,
   "metadata": {},
   "outputs": [
    {
     "name": "stderr",
     "output_type": "stream",
     "text": [
      "C:\\Users\\jayak\\AppData\\Local\\Temp\\ipykernel_14564\\769170863.py:1: DeprecationWarning: sipPyTypeDict() is deprecated, the extension module should use sipPyTypeDictRef() instead\n",
      "  class MyWindow(QMainWindow):\n"
     ]
    },
    {
     "ename": "SystemExit",
     "evalue": "0",
     "output_type": "error",
     "traceback": [
      "An exception has occurred, use %tb to see the full traceback.\n",
      "\u001b[1;31mSystemExit\u001b[0m\u001b[1;31m:\u001b[0m 0\n"
     ]
    }
   ],
   "source": [
    "class MyWindow(QMainWindow):\n",
    "    def __init__(self):\n",
    "        super(MyWindow,self).__init__()\n",
    "        self.setGeometry(200,200,300,300) # setGeometry(xcoor,ycoor,width,height)\n",
    "        self.setWindowTitle(\"My First PYQT5 Program\")\n",
    "        self.initUI()\n",
    "    def initUI(self):\n",
    "        self.label=QtWidgets.QLabel(self)\n",
    "        self.label.setText(\"My first label\")\n",
    "        self.label.move(50,50)\n",
    "        self.b1=QtWidgets.QPushButton(self)\n",
    "        self.b1.setText(\"My first button\")\n",
    "        self.b1.clicked.connect(self.clicked)\n",
    "        self.b1.move(100,100)\n",
    "\n",
    "    def clicked(self):\n",
    "        self.label.setText(\"You pressed it\")\n",
    "\n",
    "\n",
    "def window():\n",
    "    app= QApplication(sys.argv)\n",
    "    win=MyWindow()\n",
    "    win.show()\n",
    "    sys.exit(app.exec_()) #Error message down does not affect anything just run\n",
    "window()\n",
    "# Note The label before in the screen is changed. To fix it do the below code"
   ]
  },
  {
   "cell_type": "code",
   "execution_count": 3,
   "metadata": {},
   "outputs": [
    {
     "name": "stderr",
     "output_type": "stream",
     "text": [
      "C:\\Users\\jayak\\AppData\\Local\\Temp\\ipykernel_19800\\571266894.py:1: DeprecationWarning: sipPyTypeDict() is deprecated, the extension module should use sipPyTypeDictRef() instead\n",
      "  class MyWindow(QMainWindow):\n"
     ]
    },
    {
     "ename": "SystemExit",
     "evalue": "0",
     "output_type": "error",
     "traceback": [
      "An exception has occurred, use %tb to see the full traceback.\n",
      "\u001b[1;31mSystemExit\u001b[0m\u001b[1;31m:\u001b[0m 0\n"
     ]
    },
    {
     "name": "stderr",
     "output_type": "stream",
     "text": [
      "C:\\Users\\jayak\\AppData\\Roaming\\Python\\Python311\\site-packages\\IPython\\core\\interactiveshell.py:3534: UserWarning: To exit: use 'exit', 'quit', or Ctrl-D.\n",
      "  warn(\"To exit: use 'exit', 'quit', or Ctrl-D.\", stacklevel=1)\n"
     ]
    }
   ],
   "source": [
    "class MyWindow(QMainWindow):\n",
    "    def __init__(self):\n",
    "        super(MyWindow,self).__init__()\n",
    "        self.setGeometry(200,200,300,300) # setGeometry(xcoor,ycoor,width,height)\n",
    "        self.setWindowTitle(\"My First PYQT5 Program\")\n",
    "        self.initUI()\n",
    "    def initUI(self):\n",
    "        self.label=QtWidgets.QLabel(self)\n",
    "        self.label.setText(\"My first label\")\n",
    "        self.label.move(50,50)\n",
    "        self.b1=QtWidgets.QPushButton(self)\n",
    "        self.b1.setText(\"My first button\")\n",
    "        self.b1.clicked.connect(self.clicked)\n",
    "        self.b1.move(100,100)\n",
    "\n",
    "    def clicked(self):\n",
    "        self.label.setText(\"You pressed the button\")\n",
    "        self.update()\n",
    "    def update(self):\n",
    "        self.label.adjustSize()\n",
    "\n",
    "\n",
    "def window():\n",
    "    app= QApplication(sys.argv)\n",
    "    win=MyWindow()\n",
    "    win.show()\n",
    "    sys.exit(app.exec_()) #Error message down does not affect anything just run\n",
    "window()\n",
    "# Note The label before in the screen is changed\n",
    "# To fix it do the below code. "
   ]
  },
  {
   "cell_type": "code",
   "execution_count": null,
   "metadata": {},
   "outputs": [],
   "source": []
  }
 ],
 "metadata": {
  "kernelspec": {
   "display_name": "Python 3",
   "language": "python",
   "name": "python3"
  },
  "language_info": {
   "codemirror_mode": {
    "name": "ipython",
    "version": 3
   },
   "file_extension": ".py",
   "mimetype": "text/x-python",
   "name": "python",
   "nbconvert_exporter": "python",
   "pygments_lexer": "ipython3",
   "version": "3.11.3"
  }
 },
 "nbformat": 4,
 "nbformat_minor": 2
}
