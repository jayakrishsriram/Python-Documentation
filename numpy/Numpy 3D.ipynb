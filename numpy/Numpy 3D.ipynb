{
 "cells": [
  {
   "cell_type": "code",
   "execution_count": 1,
   "metadata": {},
   "outputs": [],
   "source": [
    "import numpy as np"
   ]
  },
  {
   "cell_type": "code",
   "execution_count": 2,
   "metadata": {},
   "outputs": [
    {
     "name": "stdout",
     "output_type": "stream",
     "text": [
      "[[[3 4]\n",
      "  [6 5]]\n",
      "\n",
      " [[1 5]\n",
      "  [9 8]]]\n"
     ]
    }
   ],
   "source": [
    "#3d array\n",
    "b = np.array([[[3,4],[6,5]],[[1,5],[9,8]]])\n",
    "print(b)"
   ]
  },
  {
   "cell_type": "markdown",
   "metadata": {},
   "source": [
    "# Zeros in 3D"
   ]
  },
  {
   "cell_type": "code",
   "execution_count": 3,
   "metadata": {},
   "outputs": [
    {
     "data": {
      "text/plain": [
       "array([[[0., 0., 0., 0.],\n",
       "        [0., 0., 0., 0.],\n",
       "        [0., 0., 0., 0.]],\n",
       "\n",
       "       [[0., 0., 0., 0.],\n",
       "        [0., 0., 0., 0.],\n",
       "        [0., 0., 0., 0.]]])"
      ]
     },
     "execution_count": 3,
     "metadata": {},
     "output_type": "execute_result"
    }
   ],
   "source": [
    "z3 = np.zeros((2,3,4))                            # creating a Zeros array, of 3 dimensions\n",
    "z3"
   ]
  },
  {
   "cell_type": "markdown",
   "metadata": {},
   "source": [
    "# Ones in 3D"
   ]
  },
  {
   "cell_type": "code",
   "execution_count": 4,
   "metadata": {},
   "outputs": [
    {
     "name": "stdout",
     "output_type": "stream",
     "text": [
      "[[[1 1 1 1]\n",
      "  [1 1 1 1]\n",
      "  [1 1 1 1]]\n",
      "\n",
      " [[1 1 1 1]\n",
      "  [1 1 1 1]\n",
      "  [1 1 1 1]]]\n"
     ]
    }
   ],
   "source": [
    "a3 = np.ones((2,3,4), dtype=int)                            # creating an Ones array, of 3 dimensions\n",
    "print(a3)"
   ]
  },
  {
   "cell_type": "code",
   "execution_count": 5,
   "metadata": {},
   "outputs": [
    {
     "data": {
      "text/plain": [
       "3"
      ]
     },
     "execution_count": 5,
     "metadata": {},
     "output_type": "execute_result"
    }
   ],
   "source": [
    "np.ndim(a3)                            # checking the dimension of a3"
   ]
  },
  {
   "cell_type": "code",
   "execution_count": 6,
   "metadata": {},
   "outputs": [
    {
     "data": {
      "text/plain": [
       "24"
      ]
     },
     "execution_count": 6,
     "metadata": {},
     "output_type": "execute_result"
    }
   ],
   "source": [
    "a3.size                            # checking the no. of elments in a3"
   ]
  },
  {
   "cell_type": "code",
   "execution_count": 7,
   "metadata": {},
   "outputs": [
    {
     "data": {
      "text/plain": [
       "array([[['1', '1'],\n",
       "        ['1', '1']],\n",
       "\n",
       "       [['1', '1'],\n",
       "        ['1', '1']]], dtype='<U1')"
      ]
     },
     "execution_count": 7,
     "metadata": {},
     "output_type": "execute_result"
    }
   ],
   "source": [
    "np.ones((2,2,2), dtype=str)"
   ]
  },
  {
   "cell_type": "markdown",
   "metadata": {},
   "source": [
    "X = np.array([[[1,2,3],[4,5,6],[7,8,9]]])\n",
    "Y = np.array([[[10,11,12],[13,14,15],[16,17,18]]])\n",
    "X\n",
    "Y"
   ]
  },
  {
   "cell_type": "code",
   "execution_count": 11,
   "metadata": {},
   "outputs": [
    {
     "name": "stdout",
     "output_type": "stream",
     "text": [
      "[[[0. 0. 0. 0.]\n",
      "  [0. 0. 0. 0.]\n",
      "  [0. 0. 0. 0.]]\n",
      "\n",
      " [[0. 0. 0. 0.]\n",
      "  [0. 0. 0. 0.]\n",
      "  [0. 0. 0. 0.]]\n",
      "\n",
      " [[1. 1. 1. 1.]\n",
      "  [1. 1. 1. 1.]\n",
      "  [1. 1. 1. 1.]]\n",
      "\n",
      " [[1. 1. 1. 1.]\n",
      "  [1. 1. 1. 1.]\n",
      "  [1. 1. 1. 1.]]] \n",
      "------------------------------------------------\n",
      "\n",
      "[[[0. 0. 0. 0.]\n",
      "  [0. 0. 0. 0.]\n",
      "  [0. 0. 0. 0.]\n",
      "  [1. 1. 1. 1.]\n",
      "  [1. 1. 1. 1.]\n",
      "  [1. 1. 1. 1.]]\n",
      "\n",
      " [[0. 0. 0. 0.]\n",
      "  [0. 0. 0. 0.]\n",
      "  [0. 0. 0. 0.]\n",
      "  [1. 1. 1. 1.]\n",
      "  [1. 1. 1. 1.]\n",
      "  [1. 1. 1. 1.]]]\n"
     ]
    }
   ],
   "source": [
    "\n",
    "V3 = np.vstack((z3,a3))\n",
    "print(V3,\"\\n------------------------------------------------\\n\",)\n",
    "H3 = np.hstack((z3,a3))\n",
    "print(H3)"
   ]
  },
  {
   "cell_type": "code",
   "execution_count": 12,
   "metadata": {},
   "outputs": [],
   "source": [
    "x = np.random.randn(2,3,4)                              # a 3-D Random array of shape 2x3x4"
   ]
  },
  {
   "cell_type": "code",
   "execution_count": 13,
   "metadata": {},
   "outputs": [
    {
     "data": {
      "text/plain": [
       "array([[[0.67311385, 0.54151837, 0.51635245, 0.80271585, 0.03619048],\n",
       "        [0.15049303, 0.53259891, 0.91598309, 0.71737274, 0.62472315],\n",
       "        [0.82922557, 0.21345364, 0.28561153, 0.71364029, 0.62917049]],\n",
       "\n",
       "       [[0.28026256, 0.6138754 , 0.03532703, 0.52520812, 0.06344703],\n",
       "        [0.64426165, 0.82256745, 0.68107566, 0.40442993, 0.92100491],\n",
       "        [0.3735936 , 0.82528085, 0.86630663, 0.4798528 , 0.11940836]]])"
      ]
     },
     "execution_count": 13,
     "metadata": {},
     "output_type": "execute_result"
    }
   ],
   "source": [
    "np.random.rand(2,3,5)"
   ]
  },
  {
   "cell_type": "code",
   "execution_count": 14,
   "metadata": {},
   "outputs": [
    {
     "name": "stdout",
     "output_type": "stream",
     "text": [
      "[[['i love python' 'i love python' 'i love python' 'i love python']\n",
      "  ['i love python' 'i love python' 'i love python' 'i love python']\n",
      "  ['i love python' 'i love python' 'i love python' 'i love python']]\n",
      "\n",
      " [['i love python' 'i love python' 'i love python' 'i love python']\n",
      "  ['i love python' 'i love python' 'i love python' 'i love python']\n",
      "  ['i love python' 'i love python' 'i love python' 'i love python']]]\n"
     ]
    }
   ],
   "source": [
    " #creating a Full array with string datatype, of 3 dimensions, with 'python' at each position\n",
    "\n",
    "f3 = np.full([2,3,4], 'i love python')\n",
    "print(f3)"
   ]
  },
  {
   "cell_type": "code",
   "execution_count": 15,
   "metadata": {},
   "outputs": [],
   "source": [
    "c = np.empty([2, 5, 3])                                     # creating a 3-D Empty array"
   ]
  },
  {
   "cell_type": "code",
   "execution_count": 16,
   "metadata": {},
   "outputs": [],
   "source": [
    "c = np.empty([2,5,3], dtype=int)                          # creating a 3-D Empty array, with integer datatype"
   ]
  },
  {
   "cell_type": "code",
   "execution_count": 17,
   "metadata": {},
   "outputs": [
    {
     "data": {
      "text/plain": [
       "array([[[3801155, 5570652, 6619251],\n",
       "        [7536754, 6946908, 7929953],\n",
       "        [7012449, 3014748, 7340137],\n",
       "        [7602297, 7274600, 6029422],\n",
       "        [7471216, 6684783, 7077993]],\n",
       "\n",
       "       [[6226021, 6619236, 6357094],\n",
       "        [7078005, 6029428, 6881384],\n",
       "        [7602291, 7471215, 3014777],\n",
       "        [7405683, 6881388, 6619252],\n",
       "        [7798829, 7077985,       0]]])"
      ]
     },
     "execution_count": 17,
     "metadata": {},
     "output_type": "execute_result"
    }
   ],
   "source": [
    "c"
   ]
  },
  {
   "cell_type": "code",
   "execution_count": 18,
   "metadata": {},
   "outputs": [
    {
     "data": {
      "text/plain": [
       "array([[[None, None, None],\n",
       "        [None, None, None],\n",
       "        [None, None, None],\n",
       "        [None, None, None],\n",
       "        [None, None, None]],\n",
       "\n",
       "       [[None, None, None],\n",
       "        [None, None, None],\n",
       "        [None, None, None],\n",
       "        [None, None, None],\n",
       "        [None, None, None]]], dtype=object)"
      ]
     },
     "execution_count": 18,
     "metadata": {},
     "output_type": "execute_result"
    }
   ],
   "source": [
    "c = np.empty([2,5,3], dtype=object)                        # creating a 3-D Empty array, with object datatype\n",
    "c"
   ]
  },
  {
   "cell_type": "markdown",
   "metadata": {},
   "source": [
    "#### Transpose of a 3-D array"
   ]
  },
  {
   "cell_type": "code",
   "execution_count": 19,
   "metadata": {},
   "outputs": [
    {
     "data": {
      "text/plain": [
       "array([[[1, 2, 3],\n",
       "        [4, 5, 6],\n",
       "        [7, 8, 9]]])"
      ]
     },
     "execution_count": 19,
     "metadata": {},
     "output_type": "execute_result"
    }
   ],
   "source": [
    "C = np.array([[[1,2,3],[4,5,6],[7,8,9]]])                 # creating a 3-D array of 1x3x3 elements\n",
    "C"
   ]
  },
  {
   "cell_type": "code",
   "execution_count": 20,
   "metadata": {},
   "outputs": [
    {
     "data": {
      "text/plain": [
       "array([[[1],\n",
       "        [4],\n",
       "        [7]],\n",
       "\n",
       "       [[2],\n",
       "        [5],\n",
       "        [8]],\n",
       "\n",
       "       [[3],\n",
       "        [6],\n",
       "        [9]]])"
      ]
     },
     "execution_count": 20,
     "metadata": {},
     "output_type": "execute_result"
    }
   ],
   "source": [
    "C.T"
   ]
  },
  {
   "cell_type": "code",
   "execution_count": 21,
   "metadata": {},
   "outputs": [],
   "source": [
    "C = np.array([[ [11,12,13],[14,15,16],[17,18,19]], [[20,21,22],[23,24,25],[26,27,28] ]])"
   ]
  }
 ],
 "metadata": {
  "kernelspec": {
   "display_name": "Python 3",
   "language": "python",
   "name": "python3"
  },
  "language_info": {
   "codemirror_mode": {
    "name": "ipython",
    "version": 3
   },
   "file_extension": ".py",
   "mimetype": "text/x-python",
   "name": "python",
   "nbconvert_exporter": "python",
   "pygments_lexer": "ipython3",
   "version": "3.11.3"
  }
 },
 "nbformat": 4,
 "nbformat_minor": 2
}
