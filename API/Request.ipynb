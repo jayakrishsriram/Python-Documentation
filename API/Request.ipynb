{
 "cells": [
  {
   "cell_type": "code",
   "execution_count": 1,
   "metadata": {},
   "outputs": [],
   "source": [
    "import requests\n",
    "import json"
   ]
  },
  {
   "cell_type": "code",
   "execution_count": 2,
   "metadata": {},
   "outputs": [],
   "source": [
    "res=requests.get(\"https://httpbin.org/get\")"
   ]
  },
  {
   "cell_type": "code",
   "execution_count": 4,
   "metadata": {},
   "outputs": [],
   "source": [
    "#res.text \n",
    "# To view the content in that json file"
   ]
  },
  {
   "cell_type": "code",
   "execution_count": 5,
   "metadata": {},
   "outputs": [
    {
     "name": "stdout",
     "output_type": "stream",
     "text": [
      "{'args': {}, 'headers': {'Accept': '*/*', 'Accept-Encoding': 'gzip, deflate', 'Host': 'httpbin.org', 'User-Agent': 'python-requests/2.31.0', 'X-Amzn-Trace-Id': 'Root=1-65816b48-01bee58c7ffcd24626fe9194'}, 'url': 'https://httpbin.org/get'}\n"
     ]
    }
   ],
   "source": [
    "res_json=res.json()\n",
    "del res_json[\"origin\"] # Deleting origin because it will get the IP address of your device\n",
    "print(res_json)"
   ]
  },
  {
   "cell_type": "markdown",
   "metadata": {},
   "source": [
    "# Adding parameters"
   ]
  },
  {
   "cell_type": "code",
   "execution_count": 6,
   "metadata": {},
   "outputs": [
    {
     "name": "stdout",
     "output_type": "stream",
     "text": [
      "https://httpbin.org/get?name=jai&age=20\n"
     ]
    }
   ],
   "source": [
    "params={\"name\":\"jai\",\"age\":20}\n",
    "res=requests.get(\"https://httpbin.org/get\",params=params)\n",
    "print(res.url)"
   ]
  },
  {
   "cell_type": "markdown",
   "metadata": {},
   "source": [
    "# Posting"
   ]
  },
  {
   "cell_type": "code",
   "execution_count": 29,
   "metadata": {},
   "outputs": [
    {
     "name": "stdout",
     "output_type": "stream",
     "text": [
      "https://httpbin.org/post\n",
      "{'args': {}, 'data': '', 'files': {}, 'form': {'age': '20', 'name': 'jai'}, 'headers': {'Accept': '*/*', 'Accept-Encoding': 'gzip, deflate', 'Content-Length': '15', 'Content-Type': 'application/x-www-form-urlencoded', 'Host': 'httpbin.org', 'User-Agent': 'python-requests/2.31.0', 'X-Amzn-Trace-Id': 'Root=1-65818f18-75ea8dde1bc823ac58b99a0c'}, 'json': None, 'url': 'https://httpbin.org/post'}\n"
     ]
    }
   ],
   "source": [
    "payload={\"name\":\"jai\",\"age\":20} # We call it as payload\n",
    "res=requests.post(\"https://httpbin.org/post\",data=payload)\n",
    "\n",
    "print(res.url)\n",
    "# print(res.text)\n",
    "res_json=res.json()\n",
    "del res_json[\"origin\"] # Deleting origin because it will get the IP address of your device\n",
    "print(res_json)"
   ]
  },
  {
   "cell_type": "code",
   "execution_count": 8,
   "metadata": {},
   "outputs": [
    {
     "data": {
      "text/plain": [
       "200"
      ]
     },
     "execution_count": 8,
     "metadata": {},
     "output_type": "execute_result"
    }
   ],
   "source": [
    "res.status_code"
   ]
  },
  {
   "cell_type": "code",
   "execution_count": 9,
   "metadata": {},
   "outputs": [
    {
     "data": {
      "text/plain": [
       "{'Date': 'Tue, 19 Dec 2023 10:17:43 GMT', 'Content-Type': 'application/json', 'Content-Length': '395', 'Connection': 'close', 'Server': 'gunicorn/19.9.0', 'Access-Control-Allow-Origin': '*', 'Access-Control-Allow-Credentials': 'true'}"
      ]
     },
     "execution_count": 9,
     "metadata": {},
     "output_type": "execute_result"
    }
   ],
   "source": [
    "res.headers"
   ]
  },
  {
   "cell_type": "code",
   "execution_count": 39,
   "metadata": {},
   "outputs": [
    {
     "data": {
      "text/plain": [
       "'{\\n  \"args\": {}, \\n  \"data\": \"{\\\\\"firstName\\\\\": \\\\\"jai\\\\\"}\", \\n  \"files\": {}, \\n  \"form\": {}, \\n  \"headers\": {\\n    \"Accept\": \"*/*\", \\n    \"Accept-Encoding\": \"gzip, deflate\", \\n    \"Content-Length\": \"20\", \\n    \"Content-Type\": \"application/json\", \\n    \"Host\": \"httpbin.org\", \\n    \"User-Agent\": \"python-requests/2.31.0\", \\n    \"X-Amzn-Trace-Id\": \"Root=1-658198c9-49c1b6381aca86c72e2c192b\"\\n  }, \\n  \"json\": {\\n    \"firstName\": \"jai\"\\n  }, \\n  \"origin\": \"162.216.141.12\", \\n  \"url\": \"https://httpbin.org/post\"\\n}\\n'"
      ]
     },
     "execution_count": 39,
     "metadata": {},
     "output_type": "execute_result"
    }
   ],
   "source": [
    "d={'firstName':'jai'}\n",
    "r=requests.post(\"https://httpbin.org/post\",json=d)\n",
    "r.text"
   ]
  },
  {
   "cell_type": "code",
   "execution_count": 44,
   "metadata": {},
   "outputs": [
    {
     "name": "stdout",
     "output_type": "stream",
     "text": [
      "{'User-Agent': 'HelloWorld/1.1', 'Accept-Encoding': 'gzip, deflate', 'Accept': '*/*', 'Connection': 'keep-alive', 'Content-Length': '0'}\n",
      "text/html\n"
     ]
    }
   ],
   "source": [
    "header={\"User-Agent\":\"HelloWorld/1.1\"} # We call it as header because this detail makes like user and not like API.\n",
    "res=requests.post(\"https://httpbin.org/user-agent\",headers=header)\n",
    "print(res.request.headers)\n",
    "print(res.headers['Content-Type'])"
   ]
  },
  {
   "cell_type": "code",
   "execution_count": 16,
   "metadata": {},
   "outputs": [
    {
     "name": "stdout",
     "output_type": "stream",
     "text": [
      "�PNG\n",
      "\u001a\n",
      "IHDR\u0000\u0000\u0000d\u0000\u0000\u0000\u0002\u0000\u0000\u0000��\u0002\u0003\u0000\u0000\u001faIDATx��}wXS���J#�\u0017� \u0002�J\u0019\u0011E\u0010\u001c\u0011\u0014\u0010�tl(��FGGT��\\�\u000eVԱ�a�\n",
      "�\u0011\u001bEA\u0014QA�&��B\u0000EzoI \u0010���c�\u0010!�$Dw����99gg�u޳�>{���\u000e\u000e�0\u0000`��ǎ\u001dKJJ������$��\u0014\n",
      "��\u0003UUU\u001a�fjjjbbbjj�\u000eTTT`\u0010�0��������`0\u0018���r&��b��L&������\"000�쁉�\t�@\u0018�������ҏ\u001f?~��\u0011\u001d|���fw�����d;;;77��� UUU�ѩ��&&&2����vvvAAAw��mmmŤFyy��3g�O����,߭*))9;;\u001f;v���Dz����w��\n",
      "\n",
      "������2i411IMM�0\f�f�������\u0001���t2������r;��N.\u0017\u001d�wu�74|��k���/�@ ���yyy-_����H�������蘘�����WU�d���������:�����\u0003`r8m���YC�X�cƌ������\u001d?~�X���������������x�\u000bh(+�\u000e\u001dj�����D&�($\u0012�DB\u0007���i���>~\u0004\u0000##���\u0002ܾ}����\u0003\u0000!�\u0016m��\u001d�^\u0000\u0000hb�J��?�ս)+{��mzQQ'�+����gΜ�z�j///\u0002�������bbbbbbJJJD�\u0018��ΰ�\u0019cdd5|����::8\u001cN����悪�ª�w\u0015\u0015\u000f��\n",
      "��D�\u001a\u001a\u001a����������H$\u001e�w�޽?��3!!���\u000b��I��\u0016\u0016��G�566\u001d:�DOOGMM���11ۯ\\\u0001�}���L����2�F�=|\u0018Y\\���Wr��w��8\u001c\u001e����d\"���t������6j�\u0000\u0000��r�\u0017\u0016>~�6177K�\u000e\u0003\u0003\u0003{{��/_VTT�*���|�����mMM%��E\u0014TV�dgGgff\u0014\u0017�n\u0017AWW���>77���Zx������f��юt:�D\u0002�f6;��H/*z�`d\u0016\u0017���\u000b\u000b�Q�˧N�0s���2\u0000`\u0018f�m��O��L�����(**\n",
      "�2%r�z\u0000���i��\u001d��j,\u0000�p8����1c�͘1r�p�Ko���LJ�����f��'�VV~\u0013&��\u001fo��7H�����%6;;:++9?_��\u0003����bg��nnc���\u0019>����9�����(���rڴ��~B�K���RJ���\u0005\u0011=\u0001}--taOT\u0014bj�����\u001a���cX\u000b�]XU��0\f�\n",
      "\u0016�>}%5�N��555\u0001@�(F2r>|pݳ\u00071�<rd����\u0002\u0003�{�\u0002����gV�x{����=\u0000\u0014UWOܵ+��+Y�w�����,�w�4�����}�j[[\u0001`����={ƛ��jķ�Űaw�n=\u0012\u0010���Z�۽��h\\�L\u0012z����\u0002�&\u0016K�o������\u001fϞ���V\"\u0012�׮=�d\tA�\tķǖY��v��PV�c��K���9�g�!\u0001�\u001c---<��|���<�@hmo�:t��ݻ\u0000@��|�gϏS�\u000e�\u0016�)<mm_��\u001b�(\"�>uݻ������0�Cm-\u0000\u0018\u001b\u001b㭬�\u0000������I��Jjk\u001d��\u0013��\u0000���$���\u001d����÷�(C�̃\u0007]G�\u0006���\"��;sKK%������\u000b\u0000�t:��s�E55\u0012���\u0014���0qbځ\u0003FC�(�\u0006�1���\u000e�i�t\u0000�hl�<tHr-\u0011��\u0019Y�ϧ������O�@Lm�5+j�&\u00152Ya�s��V\u001d\u0000���f�#GP�\u0011\u000b!-t:\u001dO�RQ\u001f/�fm�|\u0019��\u001f&N<�x�\u0017=\u0004l�5k��\u0007\u0000d���x��@�\u0010-ZZZT*\u0015\u000f\u0000��z�`�-}��\u0013ԣۘ�D�[��)��e˦�\u001d\u000b\u0000ן?���-�e\u0010-�\"<\u0000���\u0000@fq1����ya�O�\t\u0000TM�����ѭ�?�\u0004͛G��\u0003�;��}\n",
      "\u0000�y���މ\u0016-ol�}�(\u001aO�޲�\u001fڣK���j���**\u0018�\u0005�>����է��!\u001f\f\u000f\u0000NNNd2\u0019\u0000�޼\u0011�k���;|\u0018��ϯZ��\u001b%H\u000f����޸��ǳ;;}BB�Z[��\u0010!d2���\t\u0010Y��ʎ��\u0000�H����/�y�fo���S>̰�9�x1\u0000�54�\t\u000b\u0013�G�8::��\u0015�4\u0005U���r4Z-���3)\t\u0000�G�DR��c�����\u0013\u0000���|^\u0000\u001fjk��ˡ�\u001c\u0010�5w�\\tp��\u0013\u0000�q�j7�����\u0013�}��р\u0000�\u0006�z�2�P\u0001\"����D�2���g\u0005\u0005�32\u0000`����/�k`���FOO\u0000x^Xx�ŋ��O\u0001������\u0012\u0015�\t�����+V�\u0000\u00005\n",
      "���(\u0011��O����O}\u0003�ut��_��dRH$\u000e�\u000b\u0000\u0017.\\X�|9��K\u0016��\u001a6l\u0018��W�����ҥ�W����UT��2{s�Q��\n",
      "FY���o::b��;q�Ķm���$\u0002�H<|��M�|���*+�:�L��ݽ\u001b_Z���Ihh�X�\u001b7ntsu�41\t��\u001e�-�fg�\u001e>\f\u0000\u0011\u0011\u0011K�,A'{��oggG�Yc��-��JD�\u0005\u000b\u0002N�\u0006\u0000��3��\u0016���.]�\u0004\u0000�C�\u0004zzʭ\f\u0000�<��S���[\u0017��PUU�p�Bsssss�\u000b\u0017VUU�%$,]�n�S�\u0001�r%��a�N����x����rE%s��癙�\u001e\u001e�N��K�Ȕ\u0000''k\u001a\n",
      "\n",
      "\n",
      "��'1�u1\u0000\u0002�\u0000�dBc#|iE\u0016ð���[\u0019\u0019i���ee��*x\u001cn���d:}����c�H��S��4=���ں�:\"��\u0004\u0000Iύ˅�&AMF*��Q�F��@\u0000\u001cNP��\u0016tt`�[�ok����a�\u001e\u0015�\u000bE����\u001a\u001a���\u0000�����ֆ��|\f{����O��=x0B_մi?N�*ɏ�P�\u00119L&��,\t�p--\u0002e<��)\tu����\u000b�\"��\u0013���\u000e�'���NH�\u001d\u0015%\f�P�P\u001cmm'��:���XY�ji��l������܂��^��z��իv\u000e���f��+�޾�޼_f�\u0014�Q��BrX,\u0016\u0011�P�K�\u000bg2\u0005�]�Aq�����H\u001f:�a���GqvIɪ�[\u0018i7zĈ5��/���\u00188��\u000f��qwttwt\u0004�6\u0016+26����o���\u001d\u001d�\"\"\"�>amb�()ijjڼy���!\u000e�ۼysSS\u0013���F�XV;S��\f\u0006�͖,��f�g0�\u0006\u001d/\u0007=-����ŋ\u0017�Ȋ��\u0015�6HPH�Unn\u001b~����e����\u000b�޽���e��?�rsCqxRB�L�;i��-[$K޾e��I�\u0014�\u0001�\u0019?\u001e=\u0015�����&�uu\u0007\u001f���ۼy\u0019ϞEDD�ݻ711�������������\u0013\u0013\u0013���\u001b\u0011\u0011����o���*�D@@ܝ;���\u0003I�����s�D@�BnD_K�a�!\u000b���UUU;::V���{�j��\u0000��O��<i?y�\u001f��i�L>���ׯ]���v#0\u0010��eEZa�ܓ'\u0017.^�ۡC\u0014�0+\u000e��k��k�/\f��8'�o�o\u0007��7\u0000455\u0011���;::\u0000`�\u0000Q�}��\n",
      "�\u0019\u0001��d2�_�Y��\u0000=/]�Ϟ��G@�ŘLQ\u0019�32�w�FLY�h�����Ĭ����Th�����Ϗ��?ނF\u0003���R�ݻ�*��m�ի�\" \u000bu\n",
      "�:Lĺ�\u0018\u0001=7��\u0011{U��>��8��q\u000e�K\"\u0012\u000f��˛����_�f`�tv~\u0013\u001d}��_HD\"�˝{����D��,\n",
      "�� \u001f���\u000e\u0000�/zP�(� P\u0005F\u001d��SD}\u0001��Ӯ/����p��aꪪ�Ν\u000b^�����\u001e��R�5�ΝSWU�cغ\u000b\u0017.��*��>@䨫�\u000b�j��4@&\u000b����x<\u0010�@\"��\u0012�H@$\n",
      "N\n",
      "��p��\u0006\u0000E��k��\u0000`��VJd�tGG��\u0011�鎎)��C��\u0000`mXX�0�p\u00106�\u0007\"��,I5KM�W\u001c\u0012M�����>eTUy|���P\u0016����\"\u000e\u001e���R,6VV\u0011\u0007\u000f�p8\u0016�� 4T�z��f�*d�Y::�� ��H\u0004%����v��\u0002d��\f\u0014�1 ����+\u0010%����ƀ\u0000\u0000���Q���k�X��5\u000b-\u0017�54\fh��\u0012hk�>\u001cT�QMFZ�\u001f�O�\u0000N߿\u000f\u0000:���\u0006\u0006*��>�50PGSS�Tn�Ţ��\u0011\u0000tuu�(�������y@[��AYY�\u0004D���>�\u000b0|8�Ho��R߿\u0007�U?��\"Kr�|P�PV��\u0003\u0000��/X^��f���y<\u0014�gii�\u0017\u0006\u001f\u0015\f�4\u00008\u001c����\n",
      "\u0000�\u0015s�(�\u0014\t\u0010*\u0012���f�(��Ga\u0006VVV�d\u0015J \u000b\u000403��C\u0005\n",
      "�cA\u0004\u0002()��\n",
      "XZB��\u0002���H$s)}������\u0012�$T-��b!̸���\"���())uuu��|[\u00011��J�!C��\u001dZ[��\u0002\u001c\u000e�dPS\u000355�PDg�%55\u0000@30�u{\u000e����i\u0006\u0006E�>����e�Y,����t\"�@pppHMM}��'�QD\"hh��\"�P�%�s�6���������?nn��,\u0019ғ�/%\u001a[ZB.\\������ӷ-_��y�A��\u0004�Hg�X��W\u001a�6t�P\"\u0000������\u0016VU\u0015TVʑB,\u0016(m���\n",
      "�0Q�Ӂ��O^�\u0004\u0000�JJX���;v�$6�#��\u0000p$<���\u001d۶Mx\tðҪ*�j����Ny�\u001e\u0000|||\u0000-�����k1�6��\u000f�T*\u0000tp8\u0015����o�L�n���I�[\u000f���QB\u000f*jk;8\u001c�j���˗(�\u0002Q�\u0007\u000033�1c�\u0000@��\u0001\u0017�B��|�g\u0005\u0017�]d��.���}�d���q�\"�V�%#:+\u000b\u0000����L�\u0002�X\u0007�\\Fq�4������\u0002\u0019}��5�H�Y�5s�O���s�O\u000f^�FV�;V�\\�驦����sW��'\u0000���>s�\u001a\u0000ؘ�8XX(�\u0006\u00008\\nbn.\u0000xyy\u0011�D\u0010����\u000b\u0000\u0018��*�%�2s&\u0000T��\u001d�\t�\u0005\u0000s#����m��7CC�\u0018U�\f\f�\u001e9Қ�q��\u0011�H��񈈪�:�R�������N�!\u0007�d�\u001f?\u001eEߢ��\u0010�;9�0���'�?Ւ���\u0013�>Ñ�����'\u0001��JE)%\n",
      "\u0001��d�\u00193\u0004z��P�����?�P>PH��7n$�<�­[�%�`ˍ򚚅[�v�x$\u0002��\u001be�4�\u0000>���u�M�&���%\u000bu[�\\�\u0002߉���\u0007��\u0001���r����\u0001�e��k\u0006c��ie%\u0000\u001c���W\\�������6\u0010\u0019*�(Y���T*\u0015\u0000\u000eܼ9��Yr ��{��\u000f\u0000T��:\u0007\u0004\\�q�\u000e\t�\u001c\u0017�\u001c\u0010PY[\u000b\u0000[}|\u0006\u0019��\u0007���\u0000�B����V�K\u0016�DBAO���G�\u0014�\u0015��\u001d^���ҥ8\u001c���\n",
      "C�\u000e\u0015��,\u001d���\u001a5������Y|��L�&}\u0011���k�ª��\u0001�\u000e��f�|Ogg�'�|>?>5����\t��h��@[�ܪU���\u0015\u0005��\u001f\u001b\u0014���R[[�Ç\u000fZ\"\u00132\\�]U����ϟ\u000f\u0000{���ӓg�(0;:vGE�NH\u0010��\u001a��{89M��u���\u001c`0�(-}�����U�g·\u0004\u0001��e�����˻��@������y\u00008z�hPP�襾da\u00186a��l5\n",
      "e�E���g�\u0018Փi�@ttuYl�P��D��Cutt��u��\u0000�������������\u0001\n",
      "\u000b\u000b����%\u000b\u0000���Q���\u001e\u001egV�P���ο��ned�`0��(\u0016Z���,-�88,�<YQ\u0011^��{t�ΫW\u0001 222�_��\u0018�\u0000`ƌ\u0019���$\u0002������n\u0001�ΫW�\u0015\u0014\u0004ϙ�!���\u001f\u0018����H+((��\u0015�\u001c��\u0001���� �J�le5Z��z\u0000p/'g��+>���٭Pz4�X����f[[[�����Lœ���gkk�a������[��m\u0019\u0018�\u0016򖹺\u001e_����)��f\u0007��?�RR\u0000���4'$D>9k���?\u0000�������_@�����zѢE\u0000\u0010��%�>fB�\n",
      "\n",
      "f�]\f�~8~\u001c��\u0007\u0006\u0006���J.�e�\u0000`�ҥ(\t����ϯZ%�M,ֱ��Ȕ���F�Is*u���\u0019�jN����S(�55��jFu5���C]�pno�����%h�,�Ao��'*j�͛\u0000���\u001e\u001f\u001f��\u001f0�����NWW���t\u00008\u0012\u0010�e֬AZ\t\u0000|\f{��ݕ�ԛ���쒪B&Ϟ0a��˴�c�nt�������\u0019\f��tzzz��\u0014�rR�\u0005\u0000555���(\u000e|��G�e��\u0004�C'�����\u0015\u0015\u001fjkKjk?�֖54�1l��}}s}}s*�j�p\u000fkkEM�1\f�{�Ɓ[�0\f������\u0010.�K��d\u0001@nn���'�\u0012}�ر76o�J��n\u001e���}�\u001d�ٝ�K��\u0003�SZZZ���.R�C�@\u0016\u0000TVV����L�\u0011��q۷+jQ�۠���'$\u0004���tzll��u\n",
      "A�!����SRR�\u000f���f�]�sse���\u0011�\n",
      "\n",
      "}4��;�`����BF��\"&+k�ի�++�Gkk됐���.2A1d!DGG�ܹ���\u0000}����ϟ?��v0�I��ǰ�������*\u0016\u0000�h�\u0003\u0007\u000e,Z�HQч�$\u000b\u0000x<ޅ\u000b\u0017���+�A%-UUO[[?{�\u001966��'O���AGW������\u0018�/��ӻu떄��\u00171(�\u0000���n͚5w��A\u001f���\u0007Ϟ�������|\n",
      "_�\u0001\u0000\u000e�������̸�/�\u001a2\u0000hkk�ڵk���d�z�\u0015L\u0016\u0002��>q���Ç�\"yVd\u0012��1c���}Əח���\u0007�l�ݗ/���\u0012ss��\u0006�B�lذa�Νr�\f���B\u0016BKKK\\\\\\LLLbb\"K�72p8�È\u0011��}7���r�03*U��A7�WZ_Ϩ�~WQ���U����1\u0006\u0014\n",
      "�\u0005YB`\u0018���\u001d\u001b\u001b\u001b\u0013\u0013�Fd\u001fgYaaa�*����7\u000b\u001d�oL�(ZZZ\u0018\f\u0006������VWW���������}�?N)\n",
      ")f�����54����wSl�\u0000\u0000\u0000\u0000IEND�B`�\n"
     ]
    }
   ],
   "source": [
    "header={\"User-Agent\":\"HelloWorld/1.1\",\n",
    "        \"Accept\":\"image/png\"} # We call it as header because this detail makes like user and not like API.\n",
    "res=requests.get(\"https://httpbin.org/image\",headers=header)\n",
    "print(res.text)\n"
   ]
  },
  {
   "cell_type": "code",
   "execution_count": 17,
   "metadata": {},
   "outputs": [],
   "source": [
    "with open(\"myimage.png\",\"wb\") as f:\n",
    "    f.write(res.content) # Image is created in current directory "
   ]
  },
  {
   "cell_type": "code",
   "execution_count": 18,
   "metadata": {},
   "outputs": [
    {
     "name": "stdout",
     "output_type": "stream",
     "text": [
      "{'args': {}, 'data': '', 'files': {}, 'form': {}, 'headers': {'Accept': '*/*', 'Accept-Encoding': 'gzip, deflate', 'Host': 'httpbin.org', 'User-Agent': 'python-requests/2.31.0', 'X-Amzn-Trace-Id': 'Root=1-658187a3-5e64375742f204891d22c3c3'}, 'url': 'https://httpbin.org/delay/5'}\n"
     ]
    }
   ],
   "source": [
    "res=requests.get(\"https://httpbin.org/delay/5\")\n",
    "res_json=res.json()\n",
    "del res_json[\"origin\"] # Deleting origin because it will get the IP address of your device\n",
    "print(res_json)"
   ]
  },
  {
   "cell_type": "code",
   "execution_count": 20,
   "metadata": {},
   "outputs": [
    {
     "data": {
      "text/plain": [
       "'{\\n  \"args\": {}, \\n  \"data\": \"\", \\n  \"files\": {}, \\n  \"form\": {}, \\n  \"headers\": {\\n    \"Accept\": \"*/*\", \\n    \"Accept-Encoding\": \"gzip, deflate\", \\n    \"Host\": \"httpbin.org\", \\n    \"User-Agent\": \"python-requests/2.31.0\", \\n    \"X-Amzn-Trace-Id\": \"Root=1-658187a3-5e64375742f204891d22c3c3\"\\n  }, \\n  \"origin\": \"162.216.141.12\", \\n  \"url\": \"https://httpbin.org/delay/5\"\\n}\\n'"
      ]
     },
     "execution_count": 20,
     "metadata": {},
     "output_type": "execute_result"
    }
   ],
   "source": [
    "res.text"
   ]
  },
  {
   "cell_type": "markdown",
   "metadata": {},
   "source": [
    "## passing cookies"
   ]
  },
  {
   "cell_type": "code",
   "execution_count": 32,
   "metadata": {},
   "outputs": [
    {
     "name": "stdout",
     "output_type": "stream",
     "text": [
      "{\n",
      "  \"cookies\": {\n",
      "    \"age\": \"20\", \n",
      "    \"name\": \"jai\"\n",
      "  }\n",
      "}\n",
      "\n"
     ]
    }
   ],
   "source": [
    "cookies={\"name\":\"jai\",\"age\":\"20\"}\n",
    "res=requests.get(\"https://httpbin.org/cookies\",cookies=cookies)\n",
    "print(res.text)"
   ]
  },
  {
   "cell_type": "markdown",
   "metadata": {},
   "source": [
    "adding session"
   ]
  },
  {
   "cell_type": "code",
   "execution_count": 33,
   "metadata": {},
   "outputs": [
    {
     "data": {
      "text/plain": [
       "'{\\n  \"cookies\": {\\n    \"sessioncookie\": \"123456789\"\\n  }\\n}\\n'"
      ]
     },
     "execution_count": 33,
     "metadata": {},
     "output_type": "execute_result"
    }
   ],
   "source": [
    "s=requests.session()\n",
    "s.get(\"https://httpbin.org/cookies/set/sessioncookie/123456789\")\n",
    "r=s.get(\"https://httpbin.org/cookies\")\n",
    "r.text"
   ]
  },
  {
   "cell_type": "markdown",
   "metadata": {},
   "source": [
    "## Errors raised\n",
    "1. ConnectionError\n",
    "2. Response.raise_for_status() - HTTP error\n",
    "3. Timeout exception\n",
    "4. TooManyRedirects"
   ]
  },
  {
   "cell_type": "code",
   "execution_count": 22,
   "metadata": {},
   "outputs": [
    {
     "name": "stdout",
     "output_type": "stream",
     "text": [
      "Full info : haze\n",
      "Short info : Haze\n"
     ]
    }
   ],
   "source": [
    "appid='https://api.openweathermap.org/data/2.5/weather?appid=bcee71c095bc32238890e627fc9a450e&q='\n",
    "t = input('enter the city : ')\n",
    "url = appid+t\n",
    "data=requests.get(url).json()\n",
    "ldata=data['weather'][0]['main']\n",
    "wdata=data['weather'] [0]['description']\n",
    "print('Full info :',wdata)\n",
    "print('Short info :',ldata)"
   ]
  },
  {
   "cell_type": "code",
   "execution_count": 38,
   "metadata": {},
   "outputs": [
    {
     "name": "stdout",
     "output_type": "stream",
     "text": [
      "https://www.youtube.com/results?search_query=python\n"
     ]
    }
   ],
   "source": [
    "params={\"search_query\":\"python\"}\n",
    "res=requests.get(\"https://www.youtube.com/results\", params=params)\n",
    "print(res.url)"
   ]
  },
  {
   "cell_type": "code",
   "execution_count": null,
   "metadata": {},
   "outputs": [],
   "source": []
  }
 ],
 "metadata": {
  "kernelspec": {
   "display_name": "Python 3",
   "language": "python",
   "name": "python3"
  },
  "language_info": {
   "codemirror_mode": {
    "name": "ipython",
    "version": 3
   },
   "file_extension": ".py",
   "mimetype": "text/x-python",
   "name": "python",
   "nbconvert_exporter": "python",
   "pygments_lexer": "ipython3",
   "version": "3.11.3"
  }
 },
 "nbformat": 4,
 "nbformat_minor": 2
}
