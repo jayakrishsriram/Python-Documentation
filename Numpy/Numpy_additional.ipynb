{
 "cells": [
  {
   "cell_type": "code",
   "execution_count": 1,
   "metadata": {},
   "outputs": [
    {
     "name": "stdout",
     "output_type": "stream",
     "text": [
      "[ 1 40  3 40  4]\n"
     ]
    }
   ],
   "source": [
    "#Boolean indexing\n",
    "import numpy as np\n",
    "ar = np.array([1,5,3,6,4])\n",
    "ar[ar > 4] = 40\n",
    "print(ar)"
   ]
  },
  {
   "cell_type": "code",
   "execution_count": 2,
   "metadata": {},
   "outputs": [
    {
     "name": "stdout",
     "output_type": "stream",
     "text": [
      "[[13 14 15]\n",
      " [11 12 13]\n",
      " [14 15 16]\n",
      " [16 17 18]]\n"
     ]
    }
   ],
   "source": [
    "# a = np.array([1,2,3,4,5]) # 1, 5\n",
    "# b = np.array([3,4,5,6,7,10]) # 1, 6\n",
    "# a = np.array([ # 2,2 \n",
    "#     [1,2],\n",
    "#     [3,4]\n",
    "# ])\n",
    "\n",
    "# b = np.array([\n",
    "#     [5,2,5],      #2,3\n",
    "#     [6,4,6]\n",
    "# ])\n",
    "\n",
    "# result = a + b\n",
    "# print(result)\n",
    "\n",
    "# Shape (1, 3) and shape (4, 3)\n",
    "# Shape (2, 1) and shape (2, 3)\n",
    "# Shape (1, 1) and shape (3, 1)\n",
    "\n",
    "a1= np.array([\n",
    "    [1,3,4]\n",
    "])\n",
    "a2 = np.array([\n",
    "    [3,4,5],\n",
    "    [1,2,3],\n",
    "    [4,5,6],\n",
    "    [6,7,8]\n",
    "])\n",
    "# print(a1 + a2)\n",
    "s = 10\n",
    "new_ar = a2 + 10\n",
    "print(new_ar)"
   ]
  },
  {
   "cell_type": "code",
   "execution_count": 3,
   "metadata": {},
   "outputs": [
    {
     "name": "stdout",
     "output_type": "stream",
     "text": [
      "(0, 0) 1\n",
      "(0, 1) 2\n",
      "(0, 2) 3\n",
      "(1, 0) 5\n",
      "(1, 1) 6\n",
      "(1, 2) 7\n"
     ]
    }
   ],
   "source": [
    "\n",
    "ar = np.array([\n",
    "    [1,2,3],\n",
    "    [5,6,7]\n",
    "])\n",
    "for i, v in np.ndenumerate(ar):\n",
    "    print(i, v)"
   ]
  },
  {
   "cell_type": "code",
   "execution_count": 4,
   "metadata": {},
   "outputs": [
    {
     "name": "stdout",
     "output_type": "stream",
     "text": [
      "1\n",
      "2\n",
      "2\n",
      "1\n",
      "3\n",
      "4\n"
     ]
    }
   ],
   "source": [
    "\n",
    "ar = np.array([\n",
    "    [1,2,3],\n",
    "    [2,1,4,] \n",
    "]) # (2,3) 2D\n",
    "for i in np.nditer(ar, order=\"F\"):\n",
    "    print(i)"
   ]
  },
  {
   "cell_type": "code",
   "execution_count": 5,
   "metadata": {},
   "outputs": [
    {
     "name": "stdout",
     "output_type": "stream",
     "text": [
      "2\n"
     ]
    }
   ],
   "source": [
    "\n",
    "a = np.array([3,4,6])\n",
    "# mean()\n",
    "# median()\n",
    "# var()\n",
    "# std()\n",
    "# min()\n",
    "# max()\n",
    "# sum()\n",
    "# prod()\n",
    "# argmin()\n",
    "# argmax()\n",
    "print(np.argmax(a))"
   ]
  },
  {
   "cell_type": "code",
   "execution_count": 6,
   "metadata": {},
   "outputs": [
    {
     "name": "stdout",
     "output_type": "stream",
     "text": [
      "[0 0 0 0 0 0 0 0 0 0 0 0 0]\n"
     ]
    }
   ],
   "source": [
    "ar = np.array([0,1,2,3, 0, 0, 0, 3,4, 1,1,2,10])\n",
    "# count_nonzero()\n",
    "# unique()\n",
    "# bincount()\n",
    "# sum()\n",
    "# cumsum()\n",
    "# prod()\n",
    "# cumprod()\n",
    "result = np.cumprod(ar)\n",
    "print(result)"
   ]
  },
  {
   "cell_type": "code",
   "execution_count": 7,
   "metadata": {},
   "outputs": [
    {
     "name": "stdout",
     "output_type": "stream",
     "text": [
      "[0 2 4]\n",
      "[0 0 0]\n",
      "[ 4  7 -9]\n",
      "[4 7 9]\n"
     ]
    }
   ],
   "source": [
    "\n",
    "a = np.array([1,2,3])\n",
    "b = np.array([4,5,6])\n",
    "\n",
    "# add\n",
    "# subtract\n",
    "# multiply\n",
    "# divide\n",
    "# floor_divide\n",
    "# power\n",
    "# mod \n",
    "# remainder\n",
    "# reciprocal \n",
    "# negative\n",
    "# abs\n",
    "# print((np.power(a,b)))\n",
    "\n",
    "n1 = np.array([-4,-7,9]) # 1/4, 1/7, 1/9\n",
    "n2 = np.array([2,3,5])\n",
    "print(np.remainder(n1,n2)) # 0, 1, 4\n",
    "print(np.reciprocal(n1)) \n",
    "print(np.negative(n1))\n",
    "print(np.abs(n1))\n",
    "\n"
   ]
  },
  {
   "cell_type": "code",
   "execution_count": 8,
   "metadata": {},
   "outputs": [
    {
     "name": "stdout",
     "output_type": "stream",
     "text": [
      "Arg Partision\n",
      "[1 5 2 0 3 4]\n"
     ]
    }
   ],
   "source": [
    "ar = np.array([3,1,2,4,7,0])\n",
    "arg_sorted_ar = np.argpartition(ar, 3) # 1,2,0 3 4, 7\n",
    "print(\"Arg Partision\")\n",
    "print(arg_sorted_ar)\n"
   ]
  },
  {
   "cell_type": "code",
   "execution_count": 9,
   "metadata": {},
   "outputs": [
    {
     "name": "stdout",
     "output_type": "stream",
     "text": [
      "Before sorting\n",
      "[2 3 0 1]\n",
      "After sorting\n",
      "[0 1 2 3]\n",
      "Showing their index numbers\n",
      "[2 3 0 1]\n"
     ]
    }
   ],
   "source": [
    "import numpy as np \n",
    "ar = np.array([2,3,0,1])\n",
    "print(\"Before sorting\")\n",
    "print(ar)\n",
    "print(\"After sorting\")\n",
    "print(np.sort(ar))\n",
    "print(\"Showing their index numbers\")\n",
    "print(np.argsort(ar))"
   ]
  },
  {
   "cell_type": "code",
   "execution_count": 10,
   "metadata": {},
   "outputs": [
    {
     "name": "stdout",
     "output_type": "stream",
     "text": [
      "[[3]\n",
      " [4]\n",
      " [5]\n",
      " [6]\n",
      " [7]\n",
      " [8]\n",
      " [9]]\n"
     ]
    }
   ],
   "source": [
    "ar = np.array([1,2,3,4,5,6,7,8,9,10])\n",
    "i = np.argwhere(ar > 3)\n",
    "print(i)"
   ]
  },
  {
   "cell_type": "code",
   "execution_count": 11,
   "metadata": {},
   "outputs": [
    {
     "name": "stdout",
     "output_type": "stream",
     "text": [
      "[ 1  2  3  4  5 46  7  8  9  0 10 12 13]\n"
     ]
    }
   ],
   "source": [
    "ar = np.array([1,2,3,4,5,6,46,7,8,9,0,10,12,13])\n",
    "mask = ar != 6\n",
    "print(ar[mask])"
   ]
  },
  {
   "cell_type": "code",
   "execution_count": 12,
   "metadata": {},
   "outputs": [
    {
     "name": "stdout",
     "output_type": "stream",
     "text": [
      "[1 2]\n"
     ]
    }
   ],
   "source": [
    "ar = np.array([1,2,3,4,5,6,7,8,9,10])\n",
    "arr = np.compress(ar<3, ar)\n",
    "print(arr)"
   ]
  },
  {
   "cell_type": "code",
   "execution_count": 13,
   "metadata": {},
   "outputs": [
    {
     "name": "stdout",
     "output_type": "stream",
     "text": [
      "[ 4  5  6  7  8  9 10]\n"
     ]
    }
   ],
   "source": [
    "ar = np.array([1,2,3,4,5,6,7,8,9,10])\n",
    "arr = np.extract(ar>3, ar)\n",
    "print(arr)"
   ]
  },
  {
   "cell_type": "code",
   "execution_count": 14,
   "metadata": {},
   "outputs": [
    {
     "name": "stdout",
     "output_type": "stream",
     "text": [
      "[ 1  2  4  5  6  7  8  9 10]\n"
     ]
    }
   ],
   "source": [
    "ar = np.array([1,2,3,4,5,6,7,8,9,10])\n",
    "arr = np.extract(ar!=3, ar)\n",
    "print(arr)"
   ]
  },
  {
   "cell_type": "code",
   "execution_count": 15,
   "metadata": {},
   "outputs": [
    {
     "name": "stdout",
     "output_type": "stream",
     "text": [
      "[ 11  12   0   4   5   6   7   8   0  10 100   0   6]\n"
     ]
    }
   ],
   "source": [
    "ar = np.array([11,12,3,4,5,6,7,8,1,10,100,2,6])\n",
    "new_arr = np.where(ar > 3, ar, 0)\n",
    "print(new_arr)"
   ]
  },
  {
   "cell_type": "code",
   "execution_count": 16,
   "metadata": {},
   "outputs": [
    {
     "name": "stdout",
     "output_type": "stream",
     "text": [
      "(array([0, 1, 4], dtype=int64),)\n"
     ]
    }
   ],
   "source": [
    "ar = np.array([1,2,0,0,8,0])\n",
    "nonzero = np.nonzero(ar)\n",
    "print(nonzero)"
   ]
  },
  {
   "cell_type": "code",
   "execution_count": 17,
   "metadata": {},
   "outputs": [
    {
     "name": "stdout",
     "output_type": "stream",
     "text": [
      "6\n"
     ]
    }
   ],
   "source": [
    "ar = np.array([1,2,3,4, 5, 6, 8])\n",
    "i = np.searchsorted(ar, 7)\n",
    "print(i)"
   ]
  },
  {
   "cell_type": "code",
   "execution_count": 18,
   "metadata": {},
   "outputs": [
    {
     "name": "stdout",
     "output_type": "stream",
     "text": [
      "[[0 1]\n",
      " [3 5]]\n"
     ]
    }
   ],
   "source": [
    "ar = np.array([\n",
    "    [1, 0],\n",
    "    [5, 3]\n",
    "])\n",
    "sorted_ar = np.sort(ar, axis=1)\n",
    "print(sorted_ar)"
   ]
  },
  {
   "cell_type": "code",
   "execution_count": 19,
   "metadata": {},
   "outputs": [
    {
     "name": "stdout",
     "output_type": "stream",
     "text": [
      "(array([3, 4, 5, 6, 7, 8, 9], dtype=int64),)\n"
     ]
    }
   ],
   "source": [
    "ar = np.array([1,2,3,4,5,6,7,8,9,10])\n",
    "i = np.where(ar > 3)\n",
    "print(i)"
   ]
  },
  {
   "cell_type": "code",
   "execution_count": 20,
   "metadata": {},
   "outputs": [
    {
     "name": "stdout",
     "output_type": "stream",
     "text": [
      "[1000    2    3    4    5    6    7    8    9   10]\n",
      "[ 1  2  3  4  5  6  7  8  9 10]\n"
     ]
    }
   ],
   "source": [
    "orignal = np.array([1,2,3,4,5,6,7,8,9,10])\n",
    "cpy = orignal.copy()\n",
    "cpy[0] = 1000\n",
    "print(cpy)\n",
    "print(orignal)\n"
   ]
  },
  {
   "cell_type": "code",
   "execution_count": 21,
   "metadata": {},
   "outputs": [
    {
     "name": "stdout",
     "output_type": "stream",
     "text": [
      "[6000    7    8    9   10]\n",
      "[ 1  2  3  4  5  6  7  8  9 10]\n"
     ]
    }
   ],
   "source": [
    "ar = np.array([1,2,3,4,5,6,7,8,9,10])\n",
    "# i = [3,0,1]\n",
    "# new_ar = ar[i]\n",
    "# new_ar[0] = 400\n",
    "# print(new_ar)\n",
    "# print(ar)\n",
    "\n",
    "# Boolean indexing \n",
    "new_copy_ar = ar[ar > 5]\n",
    "new_copy_ar[0] =  6000\n",
    "print(new_copy_ar)\n",
    "print(ar)"
   ]
  },
  {
   "cell_type": "code",
   "execution_count": 22,
   "metadata": {},
   "outputs": [
    {
     "name": "stdout",
     "output_type": "stream",
     "text": [
      "[  1 300   3   4   5   6   7   8   9  10]\n"
     ]
    }
   ],
   "source": [
    "orignal = np.array([1,2,3,4,5,6,7,8,9,10])\n",
    "view = orignal[1:5]\n",
    "view[0] = 300\n",
    "print(orignal)"
   ]
  },
  {
   "cell_type": "code",
   "execution_count": 23,
   "metadata": {},
   "outputs": [
    {
     "name": "stdout",
     "output_type": "stream",
     "text": [
      "[[1000    2    3]\n",
      " [   4    5    6]]\n",
      "[1000    2    3    4    5    6]\n"
     ]
    }
   ],
   "source": [
    "ar1 = np.array([1,2,3,4,5,6])\n",
    "view2 = ar1.reshape(2,3)\n",
    "view2[0,0] = 1000\n",
    "print(view2)\n",
    "print(ar1)"
   ]
  }
 ],
 "metadata": {
  "kernelspec": {
   "display_name": "Python 3",
   "language": "python",
   "name": "python3"
  },
  "language_info": {
   "codemirror_mode": {
    "name": "ipython",
    "version": 3
   },
   "file_extension": ".py",
   "mimetype": "text/x-python",
   "name": "python",
   "nbconvert_exporter": "python",
   "pygments_lexer": "ipython3",
   "version": "3.11.3"
  }
 },
 "nbformat": 4,
 "nbformat_minor": 2
}
